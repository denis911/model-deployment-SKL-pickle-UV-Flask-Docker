{
 "cells": [
  {
   "cell_type": "markdown",
   "id": "5b476d16-7264-48d4-93ff-805367d5de5c",
   "metadata": {},
   "source": [
    "## Instead of using CURL or web requests we can play here in the notebook"
   ]
  },
  {
   "cell_type": "code",
   "execution_count": 1,
   "id": "7814e9e8-902e-419e-943b-cd30c88532ea",
   "metadata": {},
   "outputs": [],
   "source": [
    "# test for the web service in the notebook - start web service as << uv run python predict_flask.py >> first \n",
    "# - then this notebook can use it\n",
    "\n",
    "import requests"
   ]
  },
  {
   "cell_type": "code",
   "execution_count": 2,
   "id": "b2190cb0-008e-4acf-aa54-cc06a0e86fcd",
   "metadata": {},
   "outputs": [],
   "source": [
    "# url for our web service - check when starting flask in debug mode\n",
    "\n",
    "url = 'http://localhost:9696/predict'"
   ]
  },
  {
   "cell_type": "code",
   "execution_count": 14,
   "id": "3119ba4d-7ff5-49cc-bd45-028515824c9d",
   "metadata": {},
   "outputs": [],
   "source": [
    "# fake customer to send as json \n",
    "\n",
    "customer = {\n",
    "    \"gender\": \"female\",\n",
    "    \"seniorcitizen\": 0,\n",
    "    \"partner\": \"yes\",\n",
    "    \"dependents\": \"no\",\n",
    "    \"phoneservice\": \"no\",\n",
    "    \"multiplelines\": \"no_phone_service\",\n",
    "    \"internetservice\": \"dsl\",\n",
    "    \"onlinesecurity\": \"no\",\n",
    "    \"onlinebackup\": \"yes\",\n",
    "    \"deviceprotection\": \"no\",\n",
    "    \"techsupport\": \"no\",\n",
    "    \"streamingtv\": \"no\",\n",
    "    \"streamingmovies\": \"no\",\n",
    "    \"contract\": \"month-to-month\",\n",
    "    \"paperlessbilling\": \"yes\",\n",
    "    \"paymentmethod\": \"electronic_check\",\n",
    "    \"tenure\": 24,\n",
    "    \"monthlycharges\": 29.85,\n",
    "    \"totalcharges\": (24 * 29.85)\n",
    "}"
   ]
  },
  {
   "cell_type": "code",
   "execution_count": 15,
   "id": "0f755786-10c5-4d5b-82f6-f1c7cba40e9c",
   "metadata": {},
   "outputs": [
    {
     "name": "stdout",
     "output_type": "stream",
     "text": [
      "{'churn': False, 'churn_probability': 0.3518037332605735}\n"
     ]
    }
   ],
   "source": [
    "response = requests.post(url, json=customer).json()\n",
    "print(response)"
   ]
  },
  {
   "cell_type": "code",
   "execution_count": 11,
   "id": "374c2f77-cf60-4390-b2af-176668843b98",
   "metadata": {},
   "outputs": [],
   "source": [
    "# next step is to install gunicorn so flask can run better in production\n",
    "# uv add gunicorn\n",
    "# uv run gunicorn preduct_flask:app --bind 0.0.0.0:9696 --workers 4\n",
    "\n",
    "# It will run on Linux or MacOS, if on Windows -> \n",
    "# Use Waitress (Windows-compatible)\n",
    "# Waitress is a pure-Python WSGI server that works perfectly on Windows.\n",
    "\n",
    "# Install it:\n",
    "# uv add waitress\n",
    "\n",
    "# uv run waitress-serve --listen=0.0.0.0:9696 predict_flask:app\n",
    "# and it will run on background and serve - INFO:waitress:Serving on http://0.0.0.0:9696\n",
    "\n",
    "# If I need more firepower - \n",
    "# waitress-serve --listen=0.0.0.0:9696 --threads=8 predict_flask:app\n",
    "# it will use 8 threads - however my CPU I5 has only 4 ))\n",
    "# waitress is similar to gunicorn but designed for windows\n"
   ]
  },
  {
   "cell_type": "code",
   "execution_count": null,
   "id": "40fe9c93-b3cb-42e1-95f7-93ade85e856b",
   "metadata": {},
   "outputs": [],
   "source": []
  }
 ],
 "metadata": {
  "kernelspec": {
   "display_name": "Python 3 (ipykernel)",
   "language": "python",
   "name": "python3"
  },
  "language_info": {
   "codemirror_mode": {
    "name": "ipython",
    "version": 3
   },
   "file_extension": ".py",
   "mimetype": "text/x-python",
   "name": "python",
   "nbconvert_exporter": "python",
   "pygments_lexer": "ipython3",
   "version": "3.12.2"
  }
 },
 "nbformat": 4,
 "nbformat_minor": 5
}
